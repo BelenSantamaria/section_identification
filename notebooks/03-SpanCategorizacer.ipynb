{
 "cells": [
  {
   "cell_type": "markdown",
   "id": "6f0322ad-b815-40e9-af74-d609c1fc03e0",
   "metadata": {},
   "source": [
    "# **03-SpanCategorizacer**\n",
    "\n",
    "Referencias\n",
    "\n",
    "* [SpanCategorizer](https://spacy.io/api/spancategorizer)"
   ]
  },
  {
   "cell_type": "code",
   "execution_count": null,
   "id": "aa07a7ac-e5cf-403e-b9b5-404575a7d017",
   "metadata": {},
   "outputs": [],
   "source": []
  },
  {
   "cell_type": "code",
   "execution_count": null,
   "id": "31377898-d3aa-4cf4-9b8b-97b2463001c2",
   "metadata": {},
   "outputs": [],
   "source": []
  },
  {
   "cell_type": "code",
   "execution_count": null,
   "id": "04cf5392-7eff-422a-a56f-36b45e280af2",
   "metadata": {},
   "outputs": [],
   "source": []
  },
  {
   "cell_type": "code",
   "execution_count": null,
   "id": "d8caaa91-a95e-4ebd-9eee-2138a70e5c10",
   "metadata": {},
   "outputs": [],
   "source": []
  }
 ],
 "metadata": {
  "kernelspec": {
   "display_name": "Python (TFM)",
   "language": "python",
   "name": "tfm"
  },
  "language_info": {
   "codemirror_mode": {
    "name": "ipython",
    "version": 3
   },
   "file_extension": ".py",
   "mimetype": "text/x-python",
   "name": "python",
   "nbconvert_exporter": "python",
   "pygments_lexer": "ipython3",
   "version": "3.10.11"
  }
 },
 "nbformat": 4,
 "nbformat_minor": 5
}
