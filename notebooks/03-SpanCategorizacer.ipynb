{
 "cells": [
  {
   "cell_type": "markdown",
   "id": "6f0322ad-b815-40e9-af74-d609c1fc03e0",
   "metadata": {},
   "source": [
    "# **03-SpanCategorizacer**\n",
    "\n",
    "Referencias\n",
    "\n",
    "* [SpanCategorizer](https://spacy.io/api/spancategorizer)\n",
    "* [Blogpost](https://explosion.ai/blog/spancat)"
   ]
  },
  {
   "cell_type": "code",
   "execution_count": 1,
   "id": "a5c49a31-1445-4a76-9d8b-bceee57f35c2",
   "metadata": {},
   "outputs": [
    {
     "name": "stdout",
     "output_type": "stream",
     "text": [
      "/Users/belensantamaria/Documentos/section_identification\n"
     ]
    }
   ],
   "source": [
    "%cd .."
   ]
  },
  {
   "cell_type": "code",
   "execution_count": 2,
   "id": "aa07a7ac-e5cf-403e-b9b5-404575a7d017",
   "metadata": {},
   "outputs": [],
   "source": [
    "import json\n",
    "import spacy\n",
    "import pandas as pd\n",
    "import difflib\n",
    "\n",
    "from sklearn.model_selection import train_test_split\n",
    "from spacy.tokens import Span, DocBin"
   ]
  },
  {
   "cell_type": "code",
   "execution_count": 3,
   "id": "31377898-d3aa-4cf4-9b8b-97b2463001c2",
   "metadata": {},
   "outputs": [],
   "source": [
    "nlp = spacy.blank('es')\n",
    "span_key = \"sc\""
   ]
  },
  {
   "cell_type": "markdown",
   "id": "038406f6-ff2e-4dfb-ad52-f2db47761b14",
   "metadata": {},
   "source": [
    "## Creación del conjunto de datos de entrenamiento"
   ]
  },
  {
   "cell_type": "code",
   "execution_count": 4,
   "id": "04cf5392-7eff-422a-a56f-36b45e280af2",
   "metadata": {},
   "outputs": [],
   "source": [
    "def data_to_spacy_format(file_path):\n",
    "    with open(file_path) as f:\n",
    "        data = json.load(f)\n",
    "    spacy_data = []\n",
    "    for note_id, entry in data[\"annotated_entries\"].items():\n",
    "        doc = nlp(entry[\"note_text\"])\n",
    "        spans = []\n",
    "        start_span = 1\n",
    "        for annotation in entry[\"section_annotation\"][\"gold\"]:\n",
    "            seg = nlp(annotation[\"segment\"])\n",
    "            spans.append(Span(doc, start_span, start_span+len(seg), annotation[\"label\"]))\n",
    "        doc.spans[span_key] = spans\n",
    "        spacy_data.append(doc)\n",
    "    return spacy_data"
   ]
  },
  {
   "cell_type": "code",
   "execution_count": 5,
   "id": "d8caaa91-a95e-4ebd-9eee-2138a70e5c10",
   "metadata": {},
   "outputs": [],
   "source": [
    "train_path = \"data/raw/clinais.train.json\"\n",
    "train_data = data_to_spacy_format(train_path)"
   ]
  },
  {
   "cell_type": "code",
   "execution_count": 6,
   "id": "adaf75db-bf43-44a2-9f4d-a9cbc75d4c0c",
   "metadata": {},
   "outputs": [],
   "source": [
    "train, valid = train_test_split(train_data, test_size=0.2)"
   ]
  },
  {
   "cell_type": "code",
   "execution_count": 7,
   "id": "8c9001ab-c807-4e69-a874-18b6cdf27d22",
   "metadata": {},
   "outputs": [],
   "source": [
    "DocBin(docs=train).to_disk(\"data/spacy/train.spacy\")\n",
    "DocBin(docs=valid).to_disk(\"data/spacy/valid.spacy\")"
   ]
  },
  {
   "cell_type": "markdown",
   "id": "0acb38af-10ef-4381-a364-1b8885415788",
   "metadata": {},
   "source": [
    "## Entrenamiento del modelo"
   ]
  },
  {
   "cell_type": "code",
   "execution_count": 8,
   "id": "107bbd3a-844e-4f02-b76a-5d598c12e2e4",
   "metadata": {},
   "outputs": [
    {
     "name": "stdout",
     "output_type": "stream",
     "text": [
      "\u001b[38;5;3m⚠ Nothing to auto-fill: base config is already complete\u001b[0m\n",
      "\u001b[38;5;2m✔ Saved config\u001b[0m\n",
      "data/spacy/base_config.cfg\n",
      "You can now add your data and train your pipeline:\n",
      "python -m spacy train base_config.cfg --paths.train ./train.spacy --paths.dev ./dev.spacy\n"
     ]
    }
   ],
   "source": [
    "! python -m spacy init fill-config data/spacy/base_config.cfg data/spacy/base_config.cfg"
   ]
  },
  {
   "cell_type": "code",
   "execution_count": 9,
   "id": "3732f235-1db3-4118-9b25-76d8b427cb3a",
   "metadata": {},
   "outputs": [
    {
     "name": "stdout",
     "output_type": "stream",
     "text": [
      "\u001b[38;5;4mℹ Saving to output directory: data/spacy/output\u001b[0m\n",
      "\u001b[38;5;4mℹ Using GPU: 0\u001b[0m\n",
      "\u001b[1m\n",
      "=========================== Initializing pipeline ===========================\u001b[0m\n",
      "\u001b[38;5;2m✔ Initialized pipeline\u001b[0m\n",
      "\u001b[1m\n",
      "============================= Training pipeline =============================\u001b[0m\n",
      "\u001b[38;5;4mℹ Pipeline: ['tok2vec', 'spancat']\u001b[0m\n",
      "\u001b[38;5;4mℹ Initial learn rate: 0.001\u001b[0m\n",
      "E    #       LOSS TOK2VEC  LOSS SPANCAT  SPANS_SC_F  SPANS_SC_P  SPANS_SC_R  SCORE \n",
      "---  ------  ------------  ------------  ----------  ----------  ----------  ------\n",
      "  0       0      22170.10      22968.01        0.01        0.00        2.03    0.00\n",
      "  0     200       6946.91      12467.57        0.00        0.00        0.00    0.00\n",
      "  0     400          0.00        316.12        0.00        0.00        0.00    0.00\n",
      "  0     600          0.00        351.05        0.00        0.00        0.00    0.00\n",
      "  1     800          0.00        341.02        0.00        0.00        0.00    0.00\n",
      "  1    1000          0.00        311.01        0.00        0.00        0.00    0.00\n",
      "  1    1200          0.00        321.00        0.00        0.00        0.00    0.00\n",
      "  2    1400          0.00        304.00        0.00        0.00        0.00    0.00\n",
      "  2    1600          0.00        320.99        0.00        0.00        0.00    0.00\n",
      "\u001b[38;5;2m✔ Saved pipeline to output directory\u001b[0m\n",
      "data/spacy/output/model-last\n"
     ]
    }
   ],
   "source": [
    "! python -m spacy train data/spacy/base_config.cfg --output data/spacy/output --paths.train data/spacy/train.spacy --paths.dev data/spacy/valid.spacy --gpu-id 0"
   ]
  },
  {
   "cell_type": "markdown",
   "id": "caff9dbe-869b-4cf5-8b4b-6043cf00adc3",
   "metadata": {},
   "source": [
    "## Predicción sobre nuevos datos"
   ]
  },
  {
   "cell_type": "code",
   "execution_count": 4,
   "id": "ec9ee1a2-21a3-4874-b391-b024a5736c4e",
   "metadata": {},
   "outputs": [],
   "source": [
    "nlp = spacy.load(\"data/spacy/output/model-best\")\n",
    "nlp_es = spacy.load(\"es_core_news_sm\")"
   ]
  },
  {
   "cell_type": "code",
   "execution_count": 5,
   "id": "e2e28c02-b60f-4b5f-88c8-6987799a2720",
   "metadata": {},
   "outputs": [],
   "source": [
    "test_path = \"data/raw/clinais.dev.json\"\n",
    "\n",
    "with open(test_path) as f:\n",
    "    data = json.load(f)"
   ]
  },
  {
   "cell_type": "code",
   "execution_count": 6,
   "id": "a111ae05-985c-4823-b79a-5eaaeb2729a0",
   "metadata": {},
   "outputs": [],
   "source": [
    "annotations = []\n",
    "\n",
    "for note_id, entry in data[\"annotated_entries\"].items():\n",
    "    text = entry[\"note_text\"]\n",
    "\n",
    "    doc = nlp(text)\n",
    "    spans = doc.spans[span_key]\n",
    "    spans_dict = {span.text: span.label_ for span in spans}\n",
    "\n",
    "    start_offset = 0\n",
    "    \n",
    "    for sent in nlp_es(text).sents:\n",
    "        if sent in spans_dict:\n",
    "            label = spans_dict[sent.text]\n",
    "        else:\n",
    "            most_similar = difflib.get_close_matches(sent.text, spans_dict.keys(), n=1)[0]\n",
    "            label = spans_dict[most_similar]\n",
    "\n",
    "        d = {\n",
    "            \"note_id\": note_id,\n",
    "            \"segment\": sent.text,\n",
    "            \"label\": label,\n",
    "            \"start_offset\": start_offset\n",
    "        }\n",
    "        annotations.append(d)\n",
    "        start_offset += len(sent.text)\n",
    "\n",
    "df = pd.DataFrame(annotations)"
   ]
  },
  {
   "cell_type": "code",
   "execution_count": 7,
   "id": "737161dc-13f3-47df-973a-f8a6a316c9e9",
   "metadata": {},
   "outputs": [
    {
     "data": {
      "text/html": [
       "<div>\n",
       "<style scoped>\n",
       "    .dataframe tbody tr th:only-of-type {\n",
       "        vertical-align: middle;\n",
       "    }\n",
       "\n",
       "    .dataframe tbody tr th {\n",
       "        vertical-align: top;\n",
       "    }\n",
       "\n",
       "    .dataframe thead th {\n",
       "        text-align: right;\n",
       "    }\n",
       "</style>\n",
       "<table border=\"1\" class=\"dataframe\">\n",
       "  <thead>\n",
       "    <tr style=\"text-align: right;\">\n",
       "      <th></th>\n",
       "      <th>note_id</th>\n",
       "      <th>segment</th>\n",
       "      <th>label</th>\n",
       "      <th>start_offset</th>\n",
       "    </tr>\n",
       "  </thead>\n",
       "  <tbody>\n",
       "    <tr>\n",
       "      <th>0</th>\n",
       "      <td>S0004-06142005000200009-3</td>\n",
       "      <td>Paciente de 69 a. de edad con un PSA en el mom...</td>\n",
       "      <td>PAST_MEDICAL_HISTORY</td>\n",
       "      <td>0</td>\n",
       "    </tr>\n",
       "    <tr>\n",
       "      <th>1</th>\n",
       "      <td>S0004-06142005000200009-3</td>\n",
       "      <td>El paciente tenía una biopsia previa por sexta...</td>\n",
       "      <td>PAST_MEDICAL_HISTORY</td>\n",
       "      <td>78</td>\n",
       "    </tr>\n",
       "    <tr>\n",
       "      <th>2</th>\n",
       "      <td>S0004-06142005000200009-3</td>\n",
       "      <td>Se practicó una E-RME que mostró inicialmente ...</td>\n",
       "      <td>PAST_MEDICAL_HISTORY</td>\n",
       "      <td>138</td>\n",
       "    </tr>\n",
       "    <tr>\n",
       "      <th>3</th>\n",
       "      <td>S0004-06142005001000015-1</td>\n",
       "      <td>Un paciente varón de 19 años acudió al Servici...</td>\n",
       "      <td>PAST_MEDICAL_HISTORY</td>\n",
       "      <td>0</td>\n",
       "    </tr>\n",
       "    <tr>\n",
       "      <th>4</th>\n",
       "      <td>S0004-06142005001000015-1</td>\n",
       "      <td>No presentaba ningún antecedente urológico.</td>\n",
       "      <td>PRESENT_ILLNESS</td>\n",
       "      <td>111</td>\n",
       "    </tr>\n",
       "    <tr>\n",
       "      <th>...</th>\n",
       "      <td>...</td>\n",
       "      <td>...</td>\n",
       "      <td>...</td>\n",
       "      <td>...</td>\n",
       "    </tr>\n",
       "    <tr>\n",
       "      <th>1905</th>\n",
       "      <td>S1135-76062007000100006-1</td>\n",
       "      <td>La madre había fallecido súbitamente a los 48 ...</td>\n",
       "      <td>EXPLORATION</td>\n",
       "      <td>179</td>\n",
       "    </tr>\n",
       "    <tr>\n",
       "      <th>1906</th>\n",
       "      <td>S1135-76062007000100006-1</td>\n",
       "      <td>Una noche salió a cenar con los compañeros de ...</td>\n",
       "      <td>PAST_MEDICAL_HISTORY</td>\n",
       "      <td>254</td>\n",
       "    </tr>\n",
       "    <tr>\n",
       "      <th>1907</th>\n",
       "      <td>S1135-76062007000100006-1</td>\n",
       "      <td>No manifestó ninguna sintomatología y se acost...</td>\n",
       "      <td>EVOLUTION</td>\n",
       "      <td>366</td>\n",
       "    </tr>\n",
       "    <tr>\n",
       "      <th>1908</th>\n",
       "      <td>S1135-76062007000100006-1</td>\n",
       "      <td>Poco después el perro comenzó a ladrar por lo ...</td>\n",
       "      <td>PAST_MEDICAL_HISTORY</td>\n",
       "      <td>435</td>\n",
       "    </tr>\n",
       "    <tr>\n",
       "      <th>1909</th>\n",
       "      <td>S1135-76062007000100006-1</td>\n",
       "      <td>Se avisó a los servicios de emergencia 061 que...</td>\n",
       "      <td>PAST_MEDICAL_HISTORY</td>\n",
       "      <td>532</td>\n",
       "    </tr>\n",
       "  </tbody>\n",
       "</table>\n",
       "<p>1910 rows × 4 columns</p>\n",
       "</div>"
      ],
      "text/plain": [
       "                        note_id  \\\n",
       "0     S0004-06142005000200009-3   \n",
       "1     S0004-06142005000200009-3   \n",
       "2     S0004-06142005000200009-3   \n",
       "3     S0004-06142005001000015-1   \n",
       "4     S0004-06142005001000015-1   \n",
       "...                         ...   \n",
       "1905  S1135-76062007000100006-1   \n",
       "1906  S1135-76062007000100006-1   \n",
       "1907  S1135-76062007000100006-1   \n",
       "1908  S1135-76062007000100006-1   \n",
       "1909  S1135-76062007000100006-1   \n",
       "\n",
       "                                                segment                 label  \\\n",
       "0     Paciente de 69 a. de edad con un PSA en el mom...  PAST_MEDICAL_HISTORY   \n",
       "1     El paciente tenía una biopsia previa por sexta...  PAST_MEDICAL_HISTORY   \n",
       "2     Se practicó una E-RME que mostró inicialmente ...  PAST_MEDICAL_HISTORY   \n",
       "3     Un paciente varón de 19 años acudió al Servici...  PAST_MEDICAL_HISTORY   \n",
       "4           No presentaba ningún antecedente urológico.       PRESENT_ILLNESS   \n",
       "...                                                 ...                   ...   \n",
       "1905  La madre había fallecido súbitamente a los 48 ...           EXPLORATION   \n",
       "1906  Una noche salió a cenar con los compañeros de ...  PAST_MEDICAL_HISTORY   \n",
       "1907  No manifestó ninguna sintomatología y se acost...             EVOLUTION   \n",
       "1908  Poco después el perro comenzó a ladrar por lo ...  PAST_MEDICAL_HISTORY   \n",
       "1909  Se avisó a los servicios de emergencia 061 que...  PAST_MEDICAL_HISTORY   \n",
       "\n",
       "      start_offset  \n",
       "0                0  \n",
       "1               78  \n",
       "2              138  \n",
       "3                0  \n",
       "4              111  \n",
       "...            ...  \n",
       "1905           179  \n",
       "1906           254  \n",
       "1907           366  \n",
       "1908           435  \n",
       "1909           532  \n",
       "\n",
       "[1910 rows x 4 columns]"
      ]
     },
     "execution_count": 7,
     "metadata": {},
     "output_type": "execute_result"
    }
   ],
   "source": [
    "df  "
   ]
  },
  {
   "cell_type": "code",
   "execution_count": 8,
   "id": "82d73407-fc50-4024-907a-ed1fbf46061d",
   "metadata": {},
   "outputs": [],
   "source": [
    "def entry_boundaries(df_test, note_id, boundaries):\n",
    "    temp_df = df_test[df_test[\"note_id\"]==note_id]\n",
    "    predictions = boundaries\n",
    "    for pred in predictions:\n",
    "        if pred[\"start_offset\"] in temp_df[\"start_offset\"].values:\n",
    "            pred[\"boundary\"] = temp_df[temp_df[\"start_offset\"]==pred[\"start_offset\"]][\"label\"].values[0]\n",
    "        else:\n",
    "            pred[\"boundary\"] = None\n",
    "    return predictions   "
   ]
  },
  {
   "cell_type": "code",
   "execution_count": 9,
   "id": "da762ecd-d560-4ee6-abd7-c2f5840beac8",
   "metadata": {},
   "outputs": [],
   "source": [
    "predictions = {}\n",
    "\n",
    "for note_id, entry in data[\"annotated_entries\"].items():\n",
    "    predictions[entry[\"note_id\"]] = entry\n",
    "    predictions[entry[\"note_id\"]][\"boundary_annotation\"][\"prediction\"] = entry_boundaries(df, note_id, entry[\"boundary_annotation\"][\"gold\"])\n",
    "    \n",
    "with open(\"data/predictions/predictions_spacy_spancat.json\", \"w\") as f:\n",
    "    json.dump({\"annotated_entries\": predictions}, f)  "
   ]
  },
  {
   "cell_type": "code",
   "execution_count": null,
   "id": "beb42db7-9c4b-43f0-bb28-8c8c60491dd0",
   "metadata": {},
   "outputs": [],
   "source": []
  }
 ],
 "metadata": {
  "kernelspec": {
   "display_name": "Python (ml)",
   "language": "python",
   "name": "ml"
  },
  "language_info": {
   "codemirror_mode": {
    "name": "ipython",
    "version": 3
   },
   "file_extension": ".py",
   "mimetype": "text/x-python",
   "name": "python",
   "nbconvert_exporter": "python",
   "pygments_lexer": "ipython3",
   "version": "3.9.16"
  }
 },
 "nbformat": 4,
 "nbformat_minor": 5
}
