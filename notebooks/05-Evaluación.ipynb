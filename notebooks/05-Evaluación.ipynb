{
 "cells": [
  {
   "cell_type": "markdown",
   "id": "63ab706c-c455-4695-814f-eca783476325",
   "metadata": {},
   "source": [
    "# **05-Evaluación**"
   ]
  },
  {
   "cell_type": "code",
   "execution_count": 1,
   "id": "fe652335-c19e-4225-86e0-113166a9e005",
   "metadata": {},
   "outputs": [
    {
     "name": "stdout",
     "output_type": "stream",
     "text": [
      "/Users/belensantamaria/Documentos/section_identification\n"
     ]
    }
   ],
   "source": [
    "%cd .."
   ]
  },
  {
   "cell_type": "code",
   "execution_count": 2,
   "id": "fb3fba22-3be4-4997-a53c-efaab4a449de",
   "metadata": {},
   "outputs": [],
   "source": [
    "import json\n",
    "\n",
    "from src.evaluation import evaluate"
   ]
  },
  {
   "cell_type": "code",
   "execution_count": 3,
   "id": "e59e7705-7265-499b-8b30-6e76d7403488",
   "metadata": {
    "tags": []
   },
   "outputs": [
    {
     "name": "stdout",
     "output_type": "stream",
     "text": [
      "Loading predictions from data/predictions/predictions_rule_classsification.json.\n",
      "Loading references from data/raw/clinais.dev.json.\n",
      "Evaluating all predictions.\n"
     ]
    },
    {
     "name": "stderr",
     "output_type": "stream",
     "text": [
      "100%|████████████████████████████████████████████████████████████████████████████████████████████████████████████████████████████████████| 127/127 [00:00<00:00, 238.78it/s]\n"
     ]
    }
   ],
   "source": [
    "evaluate.score_predictions(prediction_file=\"data/predictions/predictions_rule_classsification.json\", reference_file=\"data/raw/clinais.dev.json\", output_result_file=\"data/rule/results.json\")"
   ]
  },
  {
   "cell_type": "code",
   "execution_count": 4,
   "id": "7f3048c6-b56c-4542-bb76-5fa3ab34506d",
   "metadata": {},
   "outputs": [
    {
     "name": "stdout",
     "output_type": "stream",
     "text": [
      "Loading predictions from data/predictions/predictions_spacy_spancat.json.\n",
      "Loading references from data/raw/clinais.dev.json.\n",
      "Evaluating all predictions.\n"
     ]
    },
    {
     "name": "stderr",
     "output_type": "stream",
     "text": [
      "100%|████████████████████████████████████████████████████████████████████████████████████████████████████████████████████████████████████| 127/127 [00:00<00:00, 246.87it/s]\n"
     ]
    }
   ],
   "source": [
    "evaluate.score_predictions(prediction_file=\"data/predictions/predictions_spacy_spancat.json\", reference_file=\"data/raw/clinais.dev.json\", output_result_file=\"data/spacy/results.json\")"
   ]
  },
  {
   "cell_type": "code",
   "execution_count": 5,
   "id": "c5e4f3a5-f6b4-45d2-b41b-50d7812d579a",
   "metadata": {},
   "outputs": [
    {
     "name": "stdout",
     "output_type": "stream",
     "text": [
      "Loading predictions from data/predictions/predictions_spacy_ner.json.\n",
      "Loading references from data/raw/clinais.dev.json.\n",
      "Evaluating all predictions.\n"
     ]
    },
    {
     "name": "stderr",
     "output_type": "stream",
     "text": [
      "100%|████████████████████████████████████████████████████████████████████████████████████████████████████████████████████████████████████| 127/127 [00:00<00:00, 246.54it/s]\n"
     ]
    }
   ],
   "source": [
    "evaluate.score_predictions(prediction_file=\"data/predictions/predictions_spacy_ner.json\", reference_file=\"data/raw/clinais.dev.json\", output_result_file=\"data/ner/results.json\")"
   ]
  }
 ],
 "metadata": {
  "kernelspec": {
   "display_name": "Python (TFM)",
   "language": "python",
   "name": "tfm"
  },
  "language_info": {
   "codemirror_mode": {
    "name": "ipython",
    "version": 3
   },
   "file_extension": ".py",
   "mimetype": "text/x-python",
   "name": "python",
   "nbconvert_exporter": "python",
   "pygments_lexer": "ipython3",
   "version": "3.10.12"
  }
 },
 "nbformat": 4,
 "nbformat_minor": 5
}
