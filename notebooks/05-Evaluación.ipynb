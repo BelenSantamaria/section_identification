{
 "cells": [
  {
   "cell_type": "markdown",
   "id": "63ab706c-c455-4695-814f-eca783476325",
   "metadata": {},
   "source": [
    "# **05-Evaluación**"
   ]
  },
  {
   "cell_type": "code",
   "execution_count": 1,
   "id": "fe652335-c19e-4225-86e0-113166a9e005",
   "metadata": {},
   "outputs": [
    {
     "name": "stdout",
     "output_type": "stream",
     "text": [
      "/Users/belensantamaria/Documentos/section_identification\n"
     ]
    }
   ],
   "source": [
    "%cd .."
   ]
  },
  {
   "cell_type": "code",
   "execution_count": 2,
   "id": "fb3fba22-3be4-4997-a53c-efaab4a449de",
   "metadata": {},
   "outputs": [],
   "source": [
    "import json\n",
    "\n",
    "from src.evaluation import evaluate"
   ]
  },
  {
   "cell_type": "code",
   "execution_count": 3,
   "id": "e0d294d7-5ee0-4f0f-85ea-1d76e3446535",
   "metadata": {},
   "outputs": [],
   "source": [
    "file_path = \"data/raw/clinais.dev.json\""
   ]
  },
  {
   "cell_type": "code",
   "execution_count": 4,
   "id": "d3402cfd-c573-446e-99dc-7fa6c7fc4713",
   "metadata": {},
   "outputs": [],
   "source": [
    "with open(file_path) as f:\n",
    "    data = json.load(f)"
   ]
  },
  {
   "cell_type": "code",
   "execution_count": 5,
   "id": "b186c646-50a9-43ee-801c-5103307887c6",
   "metadata": {},
   "outputs": [],
   "source": [
    "predictions = {}\n",
    "\n",
    "for note_id, entry in data[\"annotated_entries\"].items():\n",
    "    predictions[entry[\"note_id\"]] = entry\n",
    "    predictions[entry[\"note_id\"]][\"boundary_annotation\"][\"prediction\"] = entry[\"boundary_annotation\"][\"gold\"]\n",
    "    \n",
    "with open(\"data/predictions/false_predictions.json\", \"w\") as f:\n",
    "    json.dump({\"annotated_entries\": predictions}, f)    "
   ]
  },
  {
   "cell_type": "code",
   "execution_count": 6,
   "id": "e59e7705-7265-499b-8b30-6e76d7403488",
   "metadata": {
    "tags": []
   },
   "outputs": [
    {
     "name": "stdout",
     "output_type": "stream",
     "text": [
      "Loading predictions from data/predictions/predictions_rule_classsification.json.\n",
      "Loading references from data/raw/clinais.dev.json.\n",
      "Evaluating all predictions.\n"
     ]
    },
    {
     "name": "stderr",
     "output_type": "stream",
     "text": [
      "100%|████████████████████████████████████████████████████████████████████████████████████████████████████████████████████████████████████| 127/127 [00:00<00:00, 235.55it/s]\n"
     ]
    }
   ],
   "source": [
    "evaluate.score_predictions(prediction_file=\"data/predictions/predictions_rule_classsification.json\", reference_file=\"data/raw/clinais.dev.json\", output_result_file=\"data/results/results.json\")"
   ]
  }
 ],
 "metadata": {
  "kernelspec": {
   "display_name": "Python (TFM)",
   "language": "python",
   "name": "tfm"
  },
  "language_info": {
   "codemirror_mode": {
    "name": "ipython",
    "version": 3
   },
   "file_extension": ".py",
   "mimetype": "text/x-python",
   "name": "python",
   "nbconvert_exporter": "python",
   "pygments_lexer": "ipython3",
   "version": "3.10.12"
  }
 },
 "nbformat": 4,
 "nbformat_minor": 5
}
