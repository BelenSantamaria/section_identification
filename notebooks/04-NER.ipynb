{
 "cells": [
  {
   "cell_type": "markdown",
   "id": "df3b31b3-86e7-412a-8343-0071362fd71b",
   "metadata": {},
   "source": [
    "# **04-NER**"
   ]
  },
  {
   "cell_type": "code",
   "execution_count": null,
   "id": "46d2326f-e55f-45d6-82aa-52dbbb14eb5b",
   "metadata": {},
   "outputs": [],
   "source": []
  }
 ],
 "metadata": {
  "kernelspec": {
   "display_name": "Python (TFM)",
   "language": "python",
   "name": "tfm"
  },
  "language_info": {
   "codemirror_mode": {
    "name": "ipython",
    "version": 3
   },
   "file_extension": ".py",
   "mimetype": "text/x-python",
   "name": "python",
   "nbconvert_exporter": "python",
   "pygments_lexer": "ipython3",
   "version": "3.10.11"
  }
 },
 "nbformat": 4,
 "nbformat_minor": 5
}
