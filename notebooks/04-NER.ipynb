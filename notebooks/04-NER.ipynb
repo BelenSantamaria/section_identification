{
 "cells": [
  {
   "cell_type": "markdown",
   "id": "df3b31b3-86e7-412a-8343-0071362fd71b",
   "metadata": {},
   "source": [
    "# **04-NER**"
   ]
  },
  {
   "cell_type": "code",
   "execution_count": 1,
   "id": "39e00bb2-cab0-48bd-aa75-bafd43423a9c",
   "metadata": {},
   "outputs": [
    {
     "name": "stdout",
     "output_type": "stream",
     "text": [
      "/Users/belensantamaria/Documentos/section_identification\n"
     ]
    }
   ],
   "source": [
    "%cd .."
   ]
  },
  {
   "cell_type": "code",
   "execution_count": 2,
   "id": "a5a9ac8d-73d0-432d-825c-eb2a1be8b5e7",
   "metadata": {},
   "outputs": [],
   "source": [
    "import json\n",
    "import spacy\n",
    "import re\n",
    "import pandas as pd\n",
    "\n",
    "from sklearn.model_selection import train_test_split\n",
    "from spacy.tokens import Span, DocBin"
   ]
  },
  {
   "cell_type": "code",
   "execution_count": 3,
   "id": "aa003af6-e8fe-4aba-a4c9-29d79639c53e",
   "metadata": {},
   "outputs": [],
   "source": [
    "nlp = spacy.blank(\"es\")\n",
    "span_key = \"ner\""
   ]
  },
  {
   "cell_type": "code",
   "execution_count": 4,
   "id": "f72c946f-501f-495a-a4ab-34d37c1c2362",
   "metadata": {},
   "outputs": [],
   "source": [
    "def trim_entity_spans(text, start, end):\n",
    "    invalid_span_tokens = re.compile(r\"\\s\")\n",
    "    valid_start = start\n",
    "    valid_end = end\n",
    "    while valid_start < len(text) and invalid_span_tokens.match(text[valid_start]):\n",
    "        valid_start += 1\n",
    "    while valid_end > valid_start and invalid_span_tokens.match(text[valid_end - 1]):\n",
    "        valid_end -= 1\n",
    "    return valid_start, valid_end\n",
    "\n",
    "def data_to_spacy_format(file_path):\n",
    "    with open(file_path) as f:\n",
    "        data = json.load(f)\n",
    "    spacy_data = []\n",
    "    for note_id, entry in data[\"annotated_entries\"].items():\n",
    "        doc = nlp(entry[\"note_text\"])\n",
    "        ents = []\n",
    "        for annotation in entry[\"section_annotation\"][\"gold\"]:\n",
    "            sec = nlp(annotation[\"segment\"])\n",
    "            start, end = trim_entity_spans(entry[\"note_text\"], annotation[\"start_offset\"], annotation[\"start_offset\"]+len(sec[0]))\n",
    "            span = doc.char_span(start, end, label=annotation[\"label\"])\n",
    "            ents.append(span)   \n",
    "        doc.ents = ents\n",
    "        spacy_data.append(doc)\n",
    "    return spacy_data"
   ]
  },
  {
   "cell_type": "code",
   "execution_count": 5,
   "id": "f69a4259-e341-4dd6-ab94-bc89a7461abd",
   "metadata": {},
   "outputs": [],
   "source": [
    "train_path = \"data/raw/clinais.train.json\"\n",
    "train_data = data_to_spacy_format(train_path)"
   ]
  },
  {
   "cell_type": "code",
   "execution_count": 6,
   "id": "85e4afe7-f4e6-468c-b7f4-bbfd94efd10c",
   "metadata": {},
   "outputs": [],
   "source": [
    "train, valid = train_test_split(train_data, test_size=0.2)"
   ]
  },
  {
   "cell_type": "code",
   "execution_count": 7,
   "id": "aea27e46-5dc1-4c43-90f4-5705ab95c409",
   "metadata": {},
   "outputs": [],
   "source": [
    "DocBin(docs=train).to_disk(\"data/ner/train.spacy\")\n",
    "DocBin(docs=valid).to_disk(\"data/ner/valid.spacy\")"
   ]
  },
  {
   "cell_type": "code",
   "execution_count": 8,
   "id": "93ad69c7-813a-47cf-9a14-b23a8eef7371",
   "metadata": {},
   "outputs": [
    {
     "name": "stdout",
     "output_type": "stream",
     "text": [
      "\u001b[38;5;3m⚠ Nothing to auto-fill: base config is already complete\u001b[0m\n",
      "\u001b[38;5;2m✔ Saved config\u001b[0m\n",
      "data/ner/ner_config.cfg\n",
      "You can now add your data and train your pipeline:\n",
      "python -m spacy train ner_config.cfg --paths.train ./train.spacy --paths.dev ./dev.spacy\n"
     ]
    }
   ],
   "source": [
    "! python -m spacy init fill-config data/ner/ner_config.cfg data/ner/ner_config.cfg"
   ]
  },
  {
   "cell_type": "code",
   "execution_count": 9,
   "id": "906e04a0-59d0-41e7-a3b3-b6ba8490f318",
   "metadata": {},
   "outputs": [
    {
     "name": "stdout",
     "output_type": "stream",
     "text": [
      "\u001b[38;5;4mℹ Saving to output directory: data/ner/output\u001b[0m\n",
      "\u001b[38;5;4mℹ Using GPU: 0\u001b[0m\n",
      "\u001b[1m\n",
      "=========================== Initializing pipeline ===========================\u001b[0m\n",
      "\u001b[38;5;2m✔ Initialized pipeline\u001b[0m\n",
      "\u001b[1m\n",
      "============================= Training pipeline =============================\u001b[0m\n",
      "\u001b[38;5;4mℹ Pipeline: ['tok2vec', 'ner']\u001b[0m\n",
      "\u001b[38;5;4mℹ Initial learn rate: 0.001\u001b[0m\n",
      "E    #       LOSS TOK2VEC  LOSS NER  ENTS_F  ENTS_P  ENTS_R  SCORE \n",
      "---  ------  ------------  --------  ------  ------  ------  ------\n",
      "  0       0          0.00     98.73    0.82    0.42   17.64    0.01\n",
      "  0     200         69.09   5425.65   30.69   84.67   18.75    0.31\n",
      "  0     400         84.34   1922.98   38.05   76.56   25.31    0.38\n",
      "  0     600        121.91   2190.30   50.10   56.72   44.87    0.50\n",
      "  1     800        130.44   1898.71   44.50   75.71   31.51    0.45\n",
      "  1    1000        131.80   1821.85   51.06   58.22   45.46    0.51\n",
      "  1    1200        132.31   1835.36   45.34   78.94   31.81    0.45\n",
      "  2    1400        153.10   1557.80   53.29   55.62   51.14    0.53\n",
      "  2    1600        165.15   1584.86   48.54   62.24   39.78    0.49\n",
      "  2    1800        179.99   1605.49   51.49   59.75   45.24    0.51\n",
      "  3    2000        174.71   1445.57   50.89   62.29   43.03    0.51\n",
      "  3    2200        210.55   1342.52   51.16   59.90   44.65    0.51\n",
      "  3    2400        226.65   1443.51   51.71   61.27   44.72    0.52\n",
      "  4    2600        233.85   1281.72   50.55   56.13   45.98    0.51\n",
      "  4    2800        260.87   1194.30   50.97   52.59   49.45    0.51\n",
      "  4    3000        271.58   1251.96   52.81   56.00   49.96    0.53\n",
      "\u001b[38;5;2m✔ Saved pipeline to output directory\u001b[0m\n",
      "data/ner/output/model-last\n"
     ]
    }
   ],
   "source": [
    "! python -m spacy train data/ner/ner_config.cfg --output data/ner/output --paths.train data/ner/train.spacy --paths.dev data/ner/valid.spacy --gpu-id 0"
   ]
  },
  {
   "cell_type": "code",
   "execution_count": 10,
   "id": "57b9cec9-37e1-4dd6-8774-f8e6b6ac21aa",
   "metadata": {},
   "outputs": [],
   "source": [
    "nlp = spacy.load(\"data/ner/output/model-best\")"
   ]
  },
  {
   "cell_type": "code",
   "execution_count": 11,
   "id": "3dde3294-2fb0-40a4-8345-afd20406f79d",
   "metadata": {},
   "outputs": [],
   "source": [
    "test_path = \"data/raw/clinais.dev.json\"\n",
    "\n",
    "with open(test_path) as f:\n",
    "    data = json.load(f)"
   ]
  },
  {
   "cell_type": "code",
   "execution_count": 12,
   "id": "9a41566d-5139-4f25-9df2-55225ac834d0",
   "metadata": {},
   "outputs": [],
   "source": [
    "annotations = []\n",
    "\n",
    "for note_id, entry in data[\"annotated_entries\"].items():\n",
    "    text = entry[\"note_text\"]\n",
    "    doc = nlp(text)\n",
    "    ents = doc.ents\n",
    "\n",
    "    for ent in ents:\n",
    "        d = {\n",
    "            \"note_id\": note_id,\n",
    "            \"label\": ent.label_,\n",
    "            \"start_offset\": ent.start_char\n",
    "        }\n",
    "        annotations.append(d)\n",
    "\n",
    "df = pd.DataFrame(annotations)"
   ]
  },
  {
   "cell_type": "code",
   "execution_count": 13,
   "id": "64aa5117-fd5f-4be8-bab6-de52d6e582b5",
   "metadata": {},
   "outputs": [
    {
     "data": {
      "text/html": [
       "<div>\n",
       "<style scoped>\n",
       "    .dataframe tbody tr th:only-of-type {\n",
       "        vertical-align: middle;\n",
       "    }\n",
       "\n",
       "    .dataframe tbody tr th {\n",
       "        vertical-align: top;\n",
       "    }\n",
       "\n",
       "    .dataframe thead th {\n",
       "        text-align: right;\n",
       "    }\n",
       "</style>\n",
       "<table border=\"1\" class=\"dataframe\">\n",
       "  <thead>\n",
       "    <tr style=\"text-align: right;\">\n",
       "      <th></th>\n",
       "      <th>note_id</th>\n",
       "      <th>label</th>\n",
       "      <th>start_offset</th>\n",
       "    </tr>\n",
       "  </thead>\n",
       "  <tbody>\n",
       "    <tr>\n",
       "      <th>0</th>\n",
       "      <td>S0004-06142005000200009-3</td>\n",
       "      <td>PRESENT_ILLNESS</td>\n",
       "      <td>0</td>\n",
       "    </tr>\n",
       "    <tr>\n",
       "      <th>1</th>\n",
       "      <td>S0004-06142005001000015-1</td>\n",
       "      <td>PRESENT_ILLNESS</td>\n",
       "      <td>0</td>\n",
       "    </tr>\n",
       "    <tr>\n",
       "      <th>2</th>\n",
       "      <td>S0004-06142005001000015-1</td>\n",
       "      <td>EXPLORATION</td>\n",
       "      <td>201</td>\n",
       "    </tr>\n",
       "    <tr>\n",
       "      <th>3</th>\n",
       "      <td>S0004-06142005001000015-1</td>\n",
       "      <td>EXPLORATION</td>\n",
       "      <td>360</td>\n",
       "    </tr>\n",
       "    <tr>\n",
       "      <th>4</th>\n",
       "      <td>S0004-06142005001000015-1</td>\n",
       "      <td>EVOLUTION</td>\n",
       "      <td>1526</td>\n",
       "    </tr>\n",
       "    <tr>\n",
       "      <th>...</th>\n",
       "      <td>...</td>\n",
       "      <td>...</td>\n",
       "      <td>...</td>\n",
       "    </tr>\n",
       "    <tr>\n",
       "      <th>952</th>\n",
       "      <td>S0376-78922009000400002-8</td>\n",
       "      <td>PRESENT_ILLNESS</td>\n",
       "      <td>0</td>\n",
       "    </tr>\n",
       "    <tr>\n",
       "      <th>953</th>\n",
       "      <td>S0376-78922009000400002-8</td>\n",
       "      <td>PAST_MEDICAL_HISTORY</td>\n",
       "      <td>17</td>\n",
       "    </tr>\n",
       "    <tr>\n",
       "      <th>954</th>\n",
       "      <td>S0376-78922009000400002-8</td>\n",
       "      <td>TREATMENT</td>\n",
       "      <td>342</td>\n",
       "    </tr>\n",
       "    <tr>\n",
       "      <th>955</th>\n",
       "      <td>S1135-76062007000100006-1</td>\n",
       "      <td>PRESENT_ILLNESS</td>\n",
       "      <td>0</td>\n",
       "    </tr>\n",
       "    <tr>\n",
       "      <th>956</th>\n",
       "      <td>S1135-76062007000100006-1</td>\n",
       "      <td>TREATMENT</td>\n",
       "      <td>537</td>\n",
       "    </tr>\n",
       "  </tbody>\n",
       "</table>\n",
       "<p>957 rows × 3 columns</p>\n",
       "</div>"
      ],
      "text/plain": [
       "                       note_id                 label  start_offset\n",
       "0    S0004-06142005000200009-3       PRESENT_ILLNESS             0\n",
       "1    S0004-06142005001000015-1       PRESENT_ILLNESS             0\n",
       "2    S0004-06142005001000015-1           EXPLORATION           201\n",
       "3    S0004-06142005001000015-1           EXPLORATION           360\n",
       "4    S0004-06142005001000015-1             EVOLUTION          1526\n",
       "..                         ...                   ...           ...\n",
       "952  S0376-78922009000400002-8       PRESENT_ILLNESS             0\n",
       "953  S0376-78922009000400002-8  PAST_MEDICAL_HISTORY            17\n",
       "954  S0376-78922009000400002-8             TREATMENT           342\n",
       "955  S1135-76062007000100006-1       PRESENT_ILLNESS             0\n",
       "956  S1135-76062007000100006-1             TREATMENT           537\n",
       "\n",
       "[957 rows x 3 columns]"
      ]
     },
     "execution_count": 13,
     "metadata": {},
     "output_type": "execute_result"
    }
   ],
   "source": [
    "df"
   ]
  },
  {
   "cell_type": "code",
   "execution_count": 14,
   "id": "a9d27c40-451a-48ee-ae18-61b3be07d265",
   "metadata": {},
   "outputs": [],
   "source": [
    "def entry_boundaries(df_test, note_id, boundaries):\n",
    "    temp_df = df_test[df_test[\"note_id\"]==note_id]\n",
    "    predictions = boundaries\n",
    "    for pred in predictions:\n",
    "        if pred[\"start_offset\"] in temp_df[\"start_offset\"].values:\n",
    "            pred[\"boundary\"] = temp_df[temp_df[\"start_offset\"]==pred[\"start_offset\"]][\"label\"].values[0]\n",
    "        else:\n",
    "            pred[\"boundary\"] = None\n",
    "    return predictions   "
   ]
  },
  {
   "cell_type": "code",
   "execution_count": 15,
   "id": "6ff5f647-9f14-4bdb-9269-69544ba1f8d5",
   "metadata": {},
   "outputs": [],
   "source": [
    "predictions = {}\n",
    "\n",
    "for note_id, entry in data[\"annotated_entries\"].items():\n",
    "    predictions[entry[\"note_id\"]] = entry\n",
    "    predictions[entry[\"note_id\"]][\"boundary_annotation\"][\"prediction\"] = entry_boundaries(df, note_id, entry[\"boundary_annotation\"][\"gold\"])\n",
    "    \n",
    "with open(\"data/predictions/predictions_spacy_ner.json\", \"w\") as f:\n",
    "    json.dump({\"annotated_entries\": predictions}, f) "
   ]
  },
  {
   "cell_type": "code",
   "execution_count": null,
   "id": "e4084f03-6b00-4bd9-b764-c6ac81fcdbd4",
   "metadata": {},
   "outputs": [],
   "source": []
  }
 ],
 "metadata": {
  "kernelspec": {
   "display_name": "Python (ml)",
   "language": "python",
   "name": "ml"
  },
  "language_info": {
   "codemirror_mode": {
    "name": "ipython",
    "version": 3
   },
   "file_extension": ".py",
   "mimetype": "text/x-python",
   "name": "python",
   "nbconvert_exporter": "python",
   "pygments_lexer": "ipython3",
   "version": "3.9.16"
  }
 },
 "nbformat": 4,
 "nbformat_minor": 5
}
