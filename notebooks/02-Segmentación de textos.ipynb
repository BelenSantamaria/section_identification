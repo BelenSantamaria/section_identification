{
 "cells": [
  {
   "cell_type": "markdown",
   "id": "b5ff0af4-0da0-45a6-abd7-dc6396eff79a",
   "metadata": {},
   "source": [
    "# **02-Segmentación de textos**\n",
    "\n",
    "Referencias\n",
    "\n",
    "* [Pysbd](https://github.com/nipunsadvilkar/pySBD/tree/master)\n",
    "* [SpanCategorizer](https://spacy.io/api/spancategorizer)"
   ]
  },
  {
   "cell_type": "code",
   "execution_count": 1,
   "id": "4882fa06-e7de-401d-b193-827f483e3f73",
   "metadata": {
    "tags": []
   },
   "outputs": [
    {
     "name": "stdout",
     "output_type": "stream",
     "text": [
      "/Users/belensantamaria/Documentos/section_identification\n"
     ]
    }
   ],
   "source": [
    "%cd ..\n",
    "from src.evaluation import evaluate"
   ]
  },
  {
   "cell_type": "code",
   "execution_count": 2,
   "id": "b47dada4-22a2-45fa-aaf9-d09de0b498cb",
   "metadata": {
    "tags": []
   },
   "outputs": [],
   "source": [
    "import json\n",
    "import pysbd"
   ]
  },
  {
   "cell_type": "code",
   "execution_count": 3,
   "id": "4b9349e9-8b5e-4cd6-b613-d46d54251a12",
   "metadata": {
    "tags": []
   },
   "outputs": [],
   "source": [
    "file_path = \"data/raw/clinais.dev.json\""
   ]
  },
  {
   "cell_type": "code",
   "execution_count": 4,
   "id": "bcac0add-a5c5-403b-9de1-2e461ca4113f",
   "metadata": {
    "tags": []
   },
   "outputs": [],
   "source": [
    "with open(file_path) as f:\n",
    "    data = json.load(f)"
   ]
  },
  {
   "cell_type": "code",
   "execution_count": 5,
   "id": "f8a87bde-3579-4338-9f67-936c38d76887",
   "metadata": {
    "tags": []
   },
   "outputs": [],
   "source": [
    "segments_pysbd = {}\n",
    "seg = pysbd.Segmenter(language=\"es\", clean=False, char_span=True)\n",
    "\n",
    "for note_id, entry in data[\"annotated_entries\"].items():\n",
    "    sections = []\n",
    "    for sec in seg.segment(entry[\"note_text\"]):\n",
    "        d = {\n",
    "            \"segment\": sec.sent,\n",
    "            \"start_offset\": sec.start,\n",
    "            \"end_offset\": sec.end,\n",
    "        }\n",
    "        sections.append(d)\n",
    "    segments_pysbd[note_id] = sections"
   ]
  },
  {
   "cell_type": "code",
   "execution_count": 6,
   "id": "0d8fac47-ba75-4334-af48-99ca13fd7e27",
   "metadata": {},
   "outputs": [],
   "source": [
    "predictions = {}\n",
    "\n",
    "for note_id, entry in data[\"annotated_entries\"].items():\n",
    "    predictions[entry[\"note_id\"]] = entry\n",
    "    predictions[entry[\"note_id\"]][\"boundary_annotation\"][\"prediction\"] = entry[\"boundary_annotation\"][\"gold\"]\n",
    "    \n",
    "with open(\"data/predictions/false_predictions.json\", \"w\") as f:\n",
    "    json.dump({\"annotated_entries\": predictions}, f)    "
   ]
  },
  {
   "cell_type": "code",
   "execution_count": 7,
   "id": "bfcefa3f-2fd8-40d1-b6e8-47e7b337fbdd",
   "metadata": {},
   "outputs": [
    {
     "name": "stdout",
     "output_type": "stream",
     "text": [
      "Loading predictions from data/predictions/false_predictions.json.\n",
      "Loading references from data/raw/clinais.dev.json.\n",
      "Evaluating all predictions.\n"
     ]
    },
    {
     "name": "stderr",
     "output_type": "stream",
     "text": [
      "100%|████████████████████████████████████████████████████████████████████████████████████████████████████████████████████████████████████| 127/127 [00:00<00:00, 265.46it/s]\n"
     ]
    }
   ],
   "source": [
    "evaluate.score_predictions(prediction_file=\"data/predictions/false_predictions.json\", reference_file=\"data/raw/clinais.dev.json\", output_result_file=\"data/results/results.json\")"
   ]
  },
  {
   "cell_type": "code",
   "execution_count": null,
   "id": "aea43fc0-1690-4a30-857b-62daa20e4ea5",
   "metadata": {},
   "outputs": [],
   "source": []
  }
 ],
 "metadata": {
  "kernelspec": {
   "display_name": "Python (TFM)",
   "language": "python",
   "name": "tfm"
  },
  "language_info": {
   "codemirror_mode": {
    "name": "ipython",
    "version": 3
   },
   "file_extension": ".py",
   "mimetype": "text/x-python",
   "name": "python",
   "nbconvert_exporter": "python",
   "pygments_lexer": "ipython3",
   "version": "3.10.11"
  }
 },
 "nbformat": 4,
 "nbformat_minor": 5
}
